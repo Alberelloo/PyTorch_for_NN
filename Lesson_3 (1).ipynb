{
  "cells": [
    {
      "cell_type": "markdown",
      "metadata": {
        "id": "1ZKi7kOce9Gy"
      },
      "source": [
        "# Lesson 3.  Dataset, Dataloader, BatchNorm, Dropout, Оптимизация"
      ]
    },
    {
      "cell_type": "code",
      "execution_count": 14,
      "metadata": {
        "id": "OLObm_RBe7y2"
      },
      "outputs": [],
      "source": [
        "import numpy as np\n",
        "import pandas as pd\n",
        "\n",
        "import torch\n",
        "from torch import nn\n",
        "from torch.optim import Adam, RMSprop, SGD\n",
        "from torch.utils.data import DataLoader, Dataset\n",
        "\n",
        "from sklearn.datasets import fetch_california_housing\n",
        "from sklearn.model_selection import train_test_split\n",
        "from sklearn.preprocessing import StandardScaler\n",
        "\n",
        "DEVICE = torch.device(\"cuda\" if torch.cuda.is_available() else \"cpu\")\n",
        "epoch_num = 10\n",
        "lr = 10e-2"
      ]
    },
    {
      "cell_type": "code",
      "execution_count": 3,
      "metadata": {
        "id": "kActSTTJfRVq"
      },
      "outputs": [],
      "source": [
        "class California_Dataset(Dataset):\n",
        "  def __init__(self, *init_datasets):\n",
        "    assert all(init_datasets[0].size(0) == init_dataset.size(0) for init_dataset in init_datasets)\n",
        "    self._base_datasets = init_datasets\n",
        "\n",
        "  def __len__(self):\n",
        "    return self._base_datasets[0].size(0)\n",
        "\n",
        "  def __getitem__(self, idx):\n",
        "      return tuple(base_dataset[idx] for base_dataset in self._base_datasets)"
      ]
    },
    {
      "cell_type": "code",
      "execution_count": 36,
      "metadata": {
        "id": "_5Ra-ppnfVYv"
      },
      "outputs": [],
      "source": [
        "class Net(nn.Module):\n",
        "  def __init__(self) -> None:\n",
        "      super(Net, self).__init__()\n",
        "      self.block_1 = nn.Sequential(\n",
        "          nn.Linear(in_features=8, out_features=2**6, bias=True),\n",
        "          nn.Dropout(0.1),\n",
        "          nn.BatchNorm1d(2**6),\n",
        "          nn.ReLU())\n",
        "      self.block_2 = nn.Sequential(\n",
        "          nn.Linear(in_features=2**6, out_features=2**5, bias=True),\n",
        "          nn.Dropout(0.2),\n",
        "          nn.BatchNorm1d(2**5),\n",
        "          nn.ReLU())\n",
        "      self.block_3 = nn.Sequential(\n",
        "          nn.Linear(in_features=2**5, out_features=2**4, bias=True),\n",
        "          nn.Dropout(0.2),\n",
        "          nn.BatchNorm1d(2**4),\n",
        "          nn.ReLU())\n",
        "      self.block_4 = nn.Sequential(\n",
        "          nn.Linear(in_features=2**4, out_features=2**2),\n",
        "          nn.Dropout(0.2),\n",
        "          nn.BatchNorm1d(2**2),\n",
        "          nn.ReLU())\n",
        "      self.predict = nn.Sequential(\n",
        "          nn.Linear(in_features=2**2, out_features=1, bias=True),\n",
        "          nn.BatchNorm1d(1),\n",
        "          nn.ReLU())\n",
        "\n",
        "  def forward(self, inp):\n",
        "    out = self.block_1(inp)\n",
        "    out = self.block_2(out)\n",
        "    out = self.block_3(out)\n",
        "    out = self.block_4(out)\n",
        "    out = self.predict(out)\n",
        "    return out[:, 0]"
      ]
    },
    {
      "cell_type": "code",
      "execution_count": 17,
      "metadata": {
        "id": "IoYfdBPyfcWQ"
      },
      "outputs": [],
      "source": [
        "def train_loop(train_loader, test_loader, net, optimizer):\n",
        "  loss_fn = nn.MSELoss()\n",
        "  best_acc = {'train': None, 'test': None}\n",
        "  net.train()\n",
        "  for epoch in range(epoch_num):\n",
        "    running_loss, running_items, running_right = 0.0, 0.0, 0.0\n",
        "    for i, (inputs, labels) in enumerate(train_loader):\n",
        "\n",
        "        outputs = net(inputs)\n",
        "        loss = loss_fn(outputs, labels)\n",
        "\n",
        "        # обнуляем градиент\n",
        "        optimizer.zero_grad()\n",
        "        loss.backward()\n",
        "        optimizer.step()\n",
        "\n",
        "        # выводим статистику о процессе обучения\n",
        "        running_loss += loss.item()\n",
        "        running_items += len(labels)\n",
        "\n",
        "        # выводим статистику о процессе обучения\n",
        "        if i % 300 == 0 or (i + 1) == len(train_loader):    # печатаем каждые 300 mini-batches\n",
        "            net.eval()\n",
        "\n",
        "            test_loss, test_running_total, test_loss  = 0.0, 0.0, 0.0\n",
        "            for y, (out_test, lbl_test) in enumerate(test_loader):\n",
        "                test_outputs = net(out_test)\n",
        "                test_loss += loss_fn(test_outputs, lbl_test)\n",
        "                test_running_total += len(lbl_test)\n",
        "\n",
        "            res_loss_train = running_loss / running_items\n",
        "            res_loss_test = test_loss / test_running_total\n",
        "\n",
        "            if best_acc['train'] is None or res_loss_train < best_acc['train']:\n",
        "              best_acc['train'] = res_loss_train\n",
        "\n",
        "            if best_acc['test'] is None or res_loss_test < best_acc['test']:\n",
        "              best_acc['test'] = res_loss_train\n",
        "\n",
        "            print(f'Epoch [{epoch + 1}/{epoch_num}]. ' \\\n",
        "                  f'Step [{i + 1}/{len(train_loader)}]. ' \\\n",
        "                  f'Loss: {res_loss_train:.3f}. '\\\n",
        "                  f'Test acc: {res_loss_test:.3f}.')\n",
        "\n",
        "            running_loss, running_items = 0.0, 0.0\n",
        "            net.train()\n",
        "  print(f\"Best acc train: {best_acc['train']:.3f}. Best acc test: {best_acc['test']:.3f}\")\n",
        "  print('Training is finished!')"
      ]
    },
    {
      "cell_type": "code",
      "execution_count": 29,
      "metadata": {
        "id": "u9yhhfYFfjwd"
      },
      "outputs": [],
      "source": [
        "california_housing = fetch_california_housing()\n",
        "# Разделим на тестовые и тренеровочные данные\n",
        "X_train, X_test, y_train, y_test = train_test_split(california_housing.data, california_housing.target, test_size=0.25, random_state=13)"
      ]
    },
    {
      "cell_type": "code",
      "execution_count": 30,
      "metadata": {
        "id": "MYOmWW1LfoDT"
      },
      "outputs": [],
      "source": [
        "# Нормализуем данные и подготовим их для дальнейшего использования в нашем dstaset\n",
        "scale = StandardScaler()\n",
        "X_train_s = scale.fit_transform(X_train)\n",
        "X_test_s = scale.transform(X_test)"
      ]
    },
    {
      "cell_type": "code",
      "execution_count": 31,
      "metadata": {
        "id": "dbRkP4hCfr6d"
      },
      "outputs": [],
      "source": [
        "train_xt = torch.from_numpy(X_train_s.astype(np.float32)).to(DEVICE)\n",
        "train_yt = torch.from_numpy(y_train.astype(np.float32)).to(DEVICE)\n",
        "\n",
        "test_xt = torch.from_numpy(X_test_s.astype(np.float32)).to(DEVICE)\n",
        "test_yt = torch.from_numpy(y_test.astype(np.float32)).to(DEVICE)"
      ]
    },
    {
      "cell_type": "code",
      "execution_count": 32,
      "metadata": {
        "id": "ac9dO76RfuEd"
      },
      "outputs": [],
      "source": [
        "train_dataset = California_Dataset(train_xt, train_yt)\n",
        "test_dataset = California_Dataset(test_xt, test_yt)"
      ]
    },
    {
      "cell_type": "code",
      "execution_count": 33,
      "metadata": {
        "id": "bQ4XBSBlfwf5"
      },
      "outputs": [],
      "source": [
        "train_loader = DataLoader(train_dataset, batch_size=64, shuffle=True, num_workers=2, drop_last=True)\n",
        "test_loader = DataLoader(test_dataset, batch_size=64, shuffle=True, num_workers=2, drop_last=True)"
      ]
    },
    {
      "cell_type": "markdown",
      "metadata": {
        "id": "6FrPKCfQf3eu"
      },
      "source": [
        "# Adam"
      ]
    },
    {
      "cell_type": "code",
      "execution_count": 37,
      "metadata": {
        "id": "IFyL3bvUfyxi"
      },
      "outputs": [],
      "source": [
        "net = Net().to(DEVICE)\n",
        "optimizer = Adam(net.parameters(), lr=lr)"
      ]
    },
    {
      "cell_type": "code",
      "execution_count": 38,
      "metadata": {
        "colab": {
          "base_uri": "https://localhost:8080/"
        },
        "id": "jWUR_DVLf9Gc",
        "outputId": "72286bdb-ff3e-4da3-d28f-9becf304c6a2"
      },
      "outputs": [
        {
          "output_type": "stream",
          "name": "stdout",
          "text": [
            "Epoch [1/10]. Step [1/241]. Loss: 0.069. Test acc: 0.065.\n",
            "Epoch [1/10]. Step [241/241]. Loss: 0.014. Test acc: 0.008.\n",
            "Epoch [2/10]. Step [1/241]. Loss: 0.012. Test acc: 0.008.\n",
            "Epoch [2/10]. Step [241/241]. Loss: 0.009. Test acc: 0.008.\n",
            "Epoch [3/10]. Step [1/241]. Loss: 0.007. Test acc: 0.007.\n",
            "Epoch [3/10]. Step [241/241]. Loss: 0.009. Test acc: 0.017.\n",
            "Epoch [4/10]. Step [1/241]. Loss: 0.011. Test acc: 0.015.\n",
            "Epoch [4/10]. Step [241/241]. Loss: 0.008. Test acc: 0.007.\n",
            "Epoch [5/10]. Step [1/241]. Loss: 0.014. Test acc: 0.012.\n",
            "Epoch [5/10]. Step [241/241]. Loss: 0.008. Test acc: 0.010.\n",
            "Epoch [6/10]. Step [1/241]. Loss: 0.012. Test acc: 0.009.\n",
            "Epoch [6/10]. Step [241/241]. Loss: 0.008. Test acc: 0.011.\n",
            "Epoch [7/10]. Step [1/241]. Loss: 0.008. Test acc: 0.011.\n",
            "Epoch [7/10]. Step [241/241]. Loss: 0.009. Test acc: 0.008.\n",
            "Epoch [8/10]. Step [1/241]. Loss: 0.014. Test acc: 0.008.\n",
            "Epoch [8/10]. Step [241/241]. Loss: 0.008. Test acc: 0.006.\n",
            "Epoch [9/10]. Step [1/241]. Loss: 0.007. Test acc: 0.006.\n",
            "Epoch [9/10]. Step [241/241]. Loss: 0.008. Test acc: 0.013.\n",
            "Epoch [10/10]. Step [1/241]. Loss: 0.006. Test acc: 0.012.\n",
            "Epoch [10/10]. Step [241/241]. Loss: 0.008. Test acc: 0.010.\n",
            "Best acc train: 0.006. Best acc test: 0.007\n",
            "Training is finished!\n",
            "CPU times: user 19.7 s, sys: 3.17 s, total: 22.9 s\n",
            "Wall time: 30.8 s\n"
          ]
        }
      ],
      "source": [
        "%%time\n",
        "train_loop(train_loader, test_loader, net, optimizer)"
      ]
    },
    {
      "cell_type": "markdown",
      "metadata": {
        "id": "izB6uyPhgSqx"
      },
      "source": [
        "# RMSProp"
      ]
    },
    {
      "cell_type": "code",
      "execution_count": 39,
      "metadata": {
        "id": "ME_AOY8FgHZU"
      },
      "outputs": [],
      "source": [
        "net = Net().to(DEVICE)\n",
        "optimizer = RMSprop(net.parameters(), lr=lr)"
      ]
    },
    {
      "cell_type": "code",
      "execution_count": 40,
      "metadata": {
        "colab": {
          "base_uri": "https://localhost:8080/"
        },
        "id": "FY-9plsvgWBH",
        "outputId": "600625cc-9f58-49f1-a74f-ac2555e557ac"
      },
      "outputs": [
        {
          "output_type": "stream",
          "name": "stdout",
          "text": [
            "Epoch [1/10]. Step [1/241]. Loss: 0.100. Test acc: 10875010.000.\n",
            "Epoch [1/10]. Step [241/241]. Loss: 0.011. Test acc: 0.006.\n",
            "Epoch [2/10]. Step [1/241]. Loss: 0.008. Test acc: 0.007.\n",
            "Epoch [2/10]. Step [241/241]. Loss: 0.009. Test acc: 0.009.\n",
            "Epoch [3/10]. Step [1/241]. Loss: 0.011. Test acc: 0.007.\n",
            "Epoch [3/10]. Step [241/241]. Loss: 0.009. Test acc: 0.012.\n",
            "Epoch [4/10]. Step [1/241]. Loss: 0.008. Test acc: 0.010.\n",
            "Epoch [4/10]. Step [241/241]. Loss: 0.008. Test acc: 0.010.\n",
            "Epoch [5/10]. Step [1/241]. Loss: 0.007. Test acc: 0.008.\n",
            "Epoch [5/10]. Step [241/241]. Loss: 0.008. Test acc: 0.008.\n",
            "Epoch [6/10]. Step [1/241]. Loss: 0.009. Test acc: 0.008.\n",
            "Epoch [6/10]. Step [241/241]. Loss: 0.008. Test acc: 0.006.\n",
            "Epoch [7/10]. Step [1/241]. Loss: 0.010. Test acc: 0.006.\n",
            "Epoch [7/10]. Step [241/241]. Loss: 0.008. Test acc: 0.010.\n",
            "Epoch [8/10]. Step [1/241]. Loss: 0.007. Test acc: 0.010.\n",
            "Epoch [8/10]. Step [241/241]. Loss: 0.008. Test acc: 0.009.\n",
            "Epoch [9/10]. Step [1/241]. Loss: 0.006. Test acc: 0.009.\n",
            "Epoch [9/10]. Step [241/241]. Loss: 0.008. Test acc: 0.007.\n",
            "Epoch [10/10]. Step [1/241]. Loss: 0.007. Test acc: 0.007.\n",
            "Epoch [10/10]. Step [241/241]. Loss: 0.008. Test acc: 0.007.\n",
            "Best acc train: 0.006. Best acc test: 0.008\n",
            "Training is finished!\n",
            "CPU times: user 17.4 s, sys: 3.15 s, total: 20.6 s\n",
            "Wall time: 29.3 s\n"
          ]
        }
      ],
      "source": [
        "%%time\n",
        "train_loop(train_loader, test_loader, net, optimizer)"
      ]
    },
    {
      "cell_type": "markdown",
      "metadata": {
        "id": "4AV5F-mTga7e"
      },
      "source": [
        "# SGD"
      ]
    },
    {
      "cell_type": "code",
      "execution_count": 41,
      "metadata": {
        "id": "JfFxD8dmgYRj"
      },
      "outputs": [],
      "source": [
        "net = Net().to(DEVICE)\n",
        "optimizer = SGD(net.parameters(), lr=lr)"
      ]
    },
    {
      "cell_type": "code",
      "execution_count": 42,
      "metadata": {
        "colab": {
          "base_uri": "https://localhost:8080/"
        },
        "id": "dStNVUeJgftt",
        "outputId": "9f33d33c-b0de-4553-e385-298f0db4a96d"
      },
      "outputs": [
        {
          "output_type": "stream",
          "name": "stdout",
          "text": [
            "Epoch [1/10]. Step [1/241]. Loss: 0.078. Test acc: 0.088.\n",
            "Epoch [1/10]. Step [241/241]. Loss: 0.012. Test acc: 0.008.\n",
            "Epoch [2/10]. Step [1/241]. Loss: 0.016. Test acc: 0.008.\n",
            "Epoch [2/10]. Step [241/241]. Loss: 0.009. Test acc: 0.007.\n",
            "Epoch [3/10]. Step [1/241]. Loss: 0.008. Test acc: 0.007.\n",
            "Epoch [3/10]. Step [241/241]. Loss: 0.008. Test acc: 0.007.\n",
            "Epoch [4/10]. Step [1/241]. Loss: 0.009. Test acc: 0.007.\n",
            "Epoch [4/10]. Step [241/241]. Loss: 0.008. Test acc: 0.006.\n",
            "Epoch [5/10]. Step [1/241]. Loss: 0.005. Test acc: 0.006.\n",
            "Epoch [5/10]. Step [241/241]. Loss: 0.008. Test acc: 0.006.\n",
            "Epoch [6/10]. Step [1/241]. Loss: 0.006. Test acc: 0.006.\n",
            "Epoch [6/10]. Step [241/241]. Loss: 0.008. Test acc: 0.007.\n",
            "Epoch [7/10]. Step [1/241]. Loss: 0.006. Test acc: 0.007.\n",
            "Epoch [7/10]. Step [241/241]. Loss: 0.007. Test acc: 0.007.\n",
            "Epoch [8/10]. Step [1/241]. Loss: 0.007. Test acc: 0.008.\n",
            "Epoch [8/10]. Step [241/241]. Loss: 0.008. Test acc: 0.007.\n",
            "Epoch [9/10]. Step [1/241]. Loss: 0.006. Test acc: 0.007.\n",
            "Epoch [9/10]. Step [241/241]. Loss: 0.007. Test acc: 0.006.\n",
            "Epoch [10/10]. Step [1/241]. Loss: 0.007. Test acc: 0.006.\n",
            "Epoch [10/10]. Step [241/241]. Loss: 0.007. Test acc: 0.009.\n",
            "Best acc train: 0.005. Best acc test: 0.005\n",
            "Training is finished!\n",
            "CPU times: user 15 s, sys: 3.06 s, total: 18.1 s\n",
            "Wall time: 25.8 s\n"
          ]
        }
      ],
      "source": [
        "%%time\n",
        "train_loop(train_loader, test_loader, net, optimizer)"
      ]
    },
    {
      "cell_type": "markdown",
      "metadata": {
        "id": "T14lK3gagnv6"
      },
      "source": [
        "# SGD + Momentum"
      ]
    },
    {
      "cell_type": "code",
      "execution_count": 43,
      "metadata": {
        "id": "mE_IzdewgiOb"
      },
      "outputs": [],
      "source": [
        "net = Net().to(DEVICE)\n",
        "optimizer = SGD(net.parameters(), lr=lr, momentum=0.7)"
      ]
    },
    {
      "cell_type": "code",
      "execution_count": 44,
      "metadata": {
        "colab": {
          "base_uri": "https://localhost:8080/"
        },
        "id": "v2P04bd3gsHK",
        "outputId": "361b4f60-da02-40d0-a5e4-981750f7d15c"
      },
      "outputs": [
        {
          "output_type": "stream",
          "name": "stdout",
          "text": [
            "Epoch [1/10]. Step [1/241]. Loss: 0.056. Test acc: 0.077.\n",
            "Epoch [1/10]. Step [241/241]. Loss: 0.011. Test acc: 0.008.\n",
            "Epoch [2/10]. Step [1/241]. Loss: 0.010. Test acc: 0.008.\n",
            "Epoch [2/10]. Step [241/241]. Loss: 0.009. Test acc: 0.008.\n",
            "Epoch [3/10]. Step [1/241]. Loss: 0.008. Test acc: 0.007.\n",
            "Epoch [3/10]. Step [241/241]. Loss: 0.008. Test acc: 0.007.\n",
            "Epoch [4/10]. Step [1/241]. Loss: 0.008. Test acc: 0.006.\n",
            "Epoch [4/10]. Step [241/241]. Loss: 0.008. Test acc: 0.007.\n",
            "Epoch [5/10]. Step [1/241]. Loss: 0.004. Test acc: 0.007.\n",
            "Epoch [5/10]. Step [241/241]. Loss: 0.008. Test acc: 0.006.\n",
            "Epoch [6/10]. Step [1/241]. Loss: 0.007. Test acc: 0.007.\n",
            "Epoch [6/10]. Step [241/241]. Loss: 0.008. Test acc: 0.010.\n",
            "Epoch [7/10]. Step [1/241]. Loss: 0.006. Test acc: 0.010.\n",
            "Epoch [7/10]. Step [241/241]. Loss: 0.008. Test acc: 0.006.\n",
            "Epoch [8/10]. Step [1/241]. Loss: 0.006. Test acc: 0.006.\n",
            "Epoch [8/10]. Step [241/241]. Loss: 0.008. Test acc: 0.012.\n",
            "Epoch [9/10]. Step [1/241]. Loss: 0.009. Test acc: 0.011.\n",
            "Epoch [9/10]. Step [241/241]. Loss: 0.007. Test acc: 0.007.\n",
            "Epoch [10/10]. Step [1/241]. Loss: 0.012. Test acc: 0.006.\n",
            "Epoch [10/10]. Step [241/241]. Loss: 0.007. Test acc: 0.008.\n",
            "Best acc train: 0.004. Best acc test: 0.004\n",
            "Training is finished!\n",
            "CPU times: user 15.2 s, sys: 2.91 s, total: 18.1 s\n",
            "Wall time: 24.7 s\n"
          ]
        }
      ],
      "source": [
        "%%time\n",
        "train_loop(train_loader, test_loader, net, optimizer)"
      ]
    }
  ],
  "metadata": {
    "colab": {
      "provenance": []
    },
    "kernelspec": {
      "display_name": "Python 3 (ipykernel)",
      "language": "python",
      "name": "python3"
    },
    "language_info": {
      "codemirror_mode": {
        "name": "ipython",
        "version": 3
      },
      "file_extension": ".py",
      "mimetype": "text/x-python",
      "name": "python",
      "nbconvert_exporter": "python",
      "pygments_lexer": "ipython3",
      "version": "3.9.15"
    }
  },
  "nbformat": 4,
  "nbformat_minor": 0
}