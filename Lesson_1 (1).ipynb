{
  "nbformat": 4,
  "nbformat_minor": 0,
  "metadata": {
    "colab": {
      "provenance": []
    },
    "kernelspec": {
      "name": "python3",
      "display_name": "Python 3"
    },
    "language_info": {
      "name": "python"
    }
  },
  "cells": [
    {
      "cell_type": "markdown",
      "source": [
        "#Lesson 1. Основные понятия и структуры PyTorch"
      ],
      "metadata": {
        "id": "rtz6t2IusWv5"
      }
    },
    {
      "cell_type": "code",
      "source": [
        "!pip install torch"
      ],
      "metadata": {
        "id": "5xXveWb1r54G"
      },
      "execution_count": null,
      "outputs": []
    },
    {
      "cell_type": "code",
      "execution_count": 3,
      "metadata": {
        "id": "KX5T63kzsKYi"
      },
      "outputs": [],
      "source": [
        "import torch"
      ]
    },
    {
      "cell_type": "markdown",
      "source": [
        "1. Создайте случайный FloatTensor размера 3x4x5"
      ],
      "metadata": {
        "id": "tMLEIhKNsUyp"
      }
    },
    {
      "cell_type": "code",
      "source": [
        "tensor = torch.randn(3, 4, 5)\n",
        "tensor"
      ],
      "metadata": {
        "colab": {
          "base_uri": "https://localhost:8080/"
        },
        "id": "CvIYohyDsFMp",
        "outputId": "99fdd28d-4122-4cd9-e1d1-4d1a2d2d2f23"
      },
      "execution_count": 5,
      "outputs": [
        {
          "output_type": "execute_result",
          "data": {
            "text/plain": [
              "tensor([[[-0.1642,  1.0925, -0.4746, -0.4912,  0.5333],\n",
              "         [ 0.7155, -1.7620,  0.1600, -0.2045,  1.2329],\n",
              "         [ 0.0349, -1.1737, -0.2172,  0.3819,  1.2824],\n",
              "         [ 0.2335, -1.0048,  0.3805,  1.2569,  1.6736]],\n",
              "\n",
              "        [[-0.0971,  1.4230,  0.1014, -0.5253,  1.5567],\n",
              "         [ 0.0033,  0.8997,  0.9143,  2.6218,  0.5613],\n",
              "         [-0.8688,  1.7479,  0.1258,  0.5344,  0.5378],\n",
              "         [-1.4868,  2.7693,  0.7715,  0.5080,  1.1852]],\n",
              "\n",
              "        [[-0.1817,  0.7033,  0.5640, -0.3145, -0.2596],\n",
              "         [ 0.6342, -0.0060,  0.1407,  0.4253,  0.2088],\n",
              "         [ 3.0821,  0.7983, -1.0735,  0.9710, -0.8251],\n",
              "         [ 0.6019,  1.4492, -0.1666,  0.6450, -0.4086]]])"
            ]
          },
          "metadata": {},
          "execution_count": 5
        }
      ]
    },
    {
      "cell_type": "markdown",
      "source": [
        "2. Выведите его форму (shape)"
      ],
      "metadata": {
        "id": "0sCc67OTsd5_"
      }
    },
    {
      "cell_type": "code",
      "source": [
        "tensor.shape"
      ],
      "metadata": {
        "colab": {
          "base_uri": "https://localhost:8080/"
        },
        "id": "_kDPdnHosfxc",
        "outputId": "b1c87c30-085a-428f-843c-3db3125a4fad"
      },
      "execution_count": 6,
      "outputs": [
        {
          "output_type": "execute_result",
          "data": {
            "text/plain": [
              "torch.Size([3, 4, 5])"
            ]
          },
          "metadata": {},
          "execution_count": 6
        }
      ]
    },
    {
      "cell_type": "markdown",
      "source": [
        "3. Приведите его к форме 6х10"
      ],
      "metadata": {
        "id": "c6yt3tV0siVH"
      }
    },
    {
      "cell_type": "code",
      "source": [
        "tensor = tensor.reshape(6,10)\n",
        "tensor.shape"
      ],
      "metadata": {
        "colab": {
          "base_uri": "https://localhost:8080/"
        },
        "id": "DS5IShqvsic0",
        "outputId": "ffcbbb00-d691-4373-e86a-3ad6dfe0aa59"
      },
      "execution_count": 19,
      "outputs": [
        {
          "output_type": "execute_result",
          "data": {
            "text/plain": [
              "torch.Size([6, 10])"
            ]
          },
          "metadata": {},
          "execution_count": 19
        }
      ]
    },
    {
      "cell_type": "markdown",
      "source": [
        "4. Создайте случайный IntTensor размера 10\n"
      ],
      "metadata": {
        "id": "TFrW_Egzsijm"
      }
    },
    {
      "cell_type": "code",
      "source": [
        "tensor2 = torch.randint(10,size=(10,))\n",
        "tensor2"
      ],
      "metadata": {
        "colab": {
          "base_uri": "https://localhost:8080/"
        },
        "id": "5u7QvDIusiqz",
        "outputId": "dce9a037-61ce-43fa-b1e1-f1936fee1650"
      },
      "execution_count": 17,
      "outputs": [
        {
          "output_type": "execute_result",
          "data": {
            "text/plain": [
              "tensor([6, 2, 1, 8, 0, 3, 6, 7, 5, 1])"
            ]
          },
          "metadata": {},
          "execution_count": 17
        }
      ]
    },
    {
      "cell_type": "markdown",
      "source": [
        "5. Умножьте созданный FloatTensor на созданный IntTensor поэлементно"
      ],
      "metadata": {
        "id": "RDujnwgIsiwo"
      }
    },
    {
      "cell_type": "code",
      "source": [
        "tensor.mul(tensor2)"
      ],
      "metadata": {
        "colab": {
          "base_uri": "https://localhost:8080/"
        },
        "id": "F-9PHn0gsi4X",
        "outputId": "6741f481-b03e-4755-831d-74d7f3208eab"
      },
      "execution_count": 20,
      "outputs": [
        {
          "output_type": "execute_result",
          "data": {
            "text/plain": [
              "tensor([[-9.8517e-01,  2.1851e+00, -4.7460e-01, -3.9293e+00,  0.0000e+00,\n",
              "          2.1465e+00, -1.0572e+01,  1.1199e+00, -1.0227e+00,  1.2329e+00],\n",
              "        [ 2.0929e-01, -2.3475e+00, -2.1724e-01,  3.0548e+00,  0.0000e+00,\n",
              "          7.0059e-01, -6.0287e+00,  2.6632e+00,  6.2846e+00,  1.6736e+00],\n",
              "        [-5.8278e-01,  2.8459e+00,  1.0145e-01, -4.2025e+00,  0.0000e+00,\n",
              "          9.8872e-03,  5.3982e+00,  6.3999e+00,  1.3109e+01,  5.6129e-01],\n",
              "        [-5.2130e+00,  3.4958e+00,  1.2579e-01,  4.2749e+00,  0.0000e+00,\n",
              "         -4.4604e+00,  1.6616e+01,  5.4007e+00,  2.5402e+00,  1.1852e+00],\n",
              "        [-1.0903e+00,  1.4067e+00,  5.6400e-01, -2.5157e+00, -0.0000e+00,\n",
              "          1.9026e+00, -3.5886e-02,  9.8474e-01,  2.1263e+00,  2.0884e-01],\n",
              "        [ 1.8492e+01,  1.5966e+00, -1.0735e+00,  7.7679e+00, -0.0000e+00,\n",
              "          1.8058e+00,  8.6954e+00, -1.1665e+00,  3.2251e+00, -4.0865e-01]])"
            ]
          },
          "metadata": {},
          "execution_count": 20
        }
      ]
    },
    {
      "cell_type": "markdown",
      "source": [
        "6. Умножьте тензор матрично на себя, чтобы результат был размерности 6x6\n"
      ],
      "metadata": {
        "id": "kSTW17eysi-r"
      }
    },
    {
      "cell_type": "code",
      "source": [
        "tensor.matmul(tensor.transpose(0,1))"
      ],
      "metadata": {
        "colab": {
          "base_uri": "https://localhost:8080/"
        },
        "id": "huPgnNWIsjFz",
        "outputId": "a53c3721-15d7-4f67-c13a-c65dc87bccbf"
      },
      "execution_count": 27,
      "outputs": [
        {
          "output_type": "execute_result",
          "data": {
            "text/plain": [
              "tensor([[ 7.1755,  3.1161,  1.3298, -2.4455,  1.2039, -2.8266],\n",
              "        [ 3.1161,  8.8060,  3.7794, -1.4297, -0.3158, -2.5358],\n",
              "        [ 1.3298,  3.7794, 13.5780,  8.3300,  2.1942,  1.5484],\n",
              "        [-2.4455, -1.4297,  8.3300, 16.5380,  0.7632,  1.4908],\n",
              "        [ 1.2039, -0.3158,  2.1942,  0.7632,  1.6586, -0.1566],\n",
              "        [-2.8266, -2.5358,  1.5484,  1.4908, -0.1566, 15.9857]])"
            ]
          },
          "metadata": {},
          "execution_count": 27
        }
      ]
    },
    {
      "cell_type": "markdown",
      "source": [
        "7. Посчитайте производную функции y = x**3 + z - 75t в точке (1, 0.5, 2)"
      ],
      "metadata": {
        "id": "DDrBAbj6sjME"
      }
    },
    {
      "cell_type": "code",
      "source": [
        "x = torch.tensor([1, 0.5, 2], requires_grad=True)\n",
        "z = x**3 + x - 75*x\n",
        "z.backward(x)\n",
        "x.grad"
      ],
      "metadata": {
        "colab": {
          "base_uri": "https://localhost:8080/"
        },
        "id": "VAu068QFsjTp",
        "outputId": "5d03f536-fe42-401b-e17b-26abf9752c89"
      },
      "execution_count": 28,
      "outputs": [
        {
          "output_type": "execute_result",
          "data": {
            "text/plain": [
              "tensor([ -71.0000,  -36.6250, -124.0000])"
            ]
          },
          "metadata": {},
          "execution_count": 28
        }
      ]
    },
    {
      "cell_type": "markdown",
      "source": [
        "8. Создайте единичный тензор размера 5x6"
      ],
      "metadata": {
        "id": "UPLc5akCsjaJ"
      }
    },
    {
      "cell_type": "code",
      "source": [
        "ones = torch.ones((5,6))\n",
        "ones"
      ],
      "metadata": {
        "colab": {
          "base_uri": "https://localhost:8080/"
        },
        "id": "nIGawOlIsjho",
        "outputId": "67bd9dd3-d66c-4d33-b6b5-655b6fefad32"
      },
      "execution_count": 30,
      "outputs": [
        {
          "output_type": "execute_result",
          "data": {
            "text/plain": [
              "tensor([[1., 1., 1., 1., 1., 1.],\n",
              "        [1., 1., 1., 1., 1., 1.],\n",
              "        [1., 1., 1., 1., 1., 1.],\n",
              "        [1., 1., 1., 1., 1., 1.],\n",
              "        [1., 1., 1., 1., 1., 1.]])"
            ]
          },
          "metadata": {},
          "execution_count": 30
        }
      ]
    },
    {
      "cell_type": "markdown",
      "source": [
        "9. Переведите его в формат numpy"
      ],
      "metadata": {
        "id": "XEgkgC5-sjoP"
      }
    },
    {
      "cell_type": "code",
      "source": [
        "ones.numpy()"
      ],
      "metadata": {
        "colab": {
          "base_uri": "https://localhost:8080/"
        },
        "id": "MjsnIthMsjwb",
        "outputId": "94670eda-50ab-46d5-8a9f-45aa5f814ec2"
      },
      "execution_count": 32,
      "outputs": [
        {
          "output_type": "execute_result",
          "data": {
            "text/plain": [
              "array([[1., 1., 1., 1., 1., 1.],\n",
              "       [1., 1., 1., 1., 1., 1.],\n",
              "       [1., 1., 1., 1., 1., 1.],\n",
              "       [1., 1., 1., 1., 1., 1.],\n",
              "       [1., 1., 1., 1., 1., 1.]], dtype=float32)"
            ]
          },
          "metadata": {},
          "execution_count": 32
        }
      ]
    }
  ]
}